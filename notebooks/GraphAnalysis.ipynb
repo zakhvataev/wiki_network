{
 "cells": [
  {
   "cell_type": "markdown",
   "id": "c76bec57",
   "metadata": {},
   "source": [
    "# Russian Wikipedia network analisys"
   ]
  },
  {
   "cell_type": "markdown",
   "id": "42405d40",
   "metadata": {},
   "source": [
    "### This script provides a descriptive analysis of the Russian Wikipedia directed network\n",
    "- Nodes of the network: links to Wikipedia pages.\n",
    "- Edges of the network: edge from node $A$ to node $B$ means that page $A$ contains a link to page $B$"
   ]
  },
  {
   "cell_type": "code",
   "execution_count": 1,
   "id": "b24fdc7f",
   "metadata": {},
   "outputs": [],
   "source": [
    "import pickle\n",
    "import random\n",
    "import numpy as np\n",
    "import networkx as nx"
   ]
  },
  {
   "cell_type": "code",
   "execution_count": 3,
   "id": "09ac315f",
   "metadata": {},
   "outputs": [],
   "source": [
    "GRAPH_PATH = './../saved_graphs/WIKI_50000.pkl'\n",
    "with open(GRAPH_PATH, 'rb') as f:\n",
    "    G = pickle.load(f)"
   ]
  },
  {
   "cell_type": "code",
   "execution_count": 4,
   "id": "f4978bf1",
   "metadata": {},
   "outputs": [],
   "source": [
    "def print_nodes(G, num_of_links=5, display_links=False):\n",
    "    random_nodes10 = [random.choice(list(G.nodes.keys())) for _ in range(num_of_links)]\n",
    "    for link in random_nodes10: print(G.nodes[link]['name'].split('—')[0][:-1], link*display_links)"
   ]
  },
  {
   "cell_type": "code",
   "execution_count": 5,
   "id": "a033d72b",
   "metadata": {},
   "outputs": [
    {
     "name": "stdout",
     "output_type": "stream",
     "text": [
      "Источники книг \n",
      "SLC-41 \n",
      "Глобиш, Кшиштоф \n",
      "Ясная Поляна (Владимирская область) \n",
      "Западный мир \n"
     ]
    }
   ],
   "source": [
    "print_nodes(G, num_of_links=5, display_links=False)"
   ]
  },
  {
   "cell_type": "markdown",
   "id": "a74a9bf9",
   "metadata": {},
   "source": [
    "# Network summary\n",
    "- "
   ]
  },
  {
   "cell_type": "code",
   "execution_count": null,
   "id": "07d06ef2",
   "metadata": {},
   "outputs": [],
   "source": []
  },
  {
   "cell_type": "code",
   "execution_count": null,
   "id": "922cd9cf",
   "metadata": {},
   "outputs": [],
   "source": []
  },
  {
   "cell_type": "code",
   "execution_count": null,
   "id": "406aa637",
   "metadata": {},
   "outputs": [],
   "source": []
  },
  {
   "cell_type": "code",
   "execution_count": null,
   "id": "9593b9fe",
   "metadata": {},
   "outputs": [],
   "source": []
  },
  {
   "cell_type": "code",
   "execution_count": null,
   "id": "b010be50",
   "metadata": {},
   "outputs": [],
   "source": []
  },
  {
   "cell_type": "code",
   "execution_count": null,
   "id": "da90a427",
   "metadata": {},
   "outputs": [],
   "source": []
  }
 ],
 "metadata": {
  "kernelspec": {
   "display_name": "Python 3",
   "language": "python",
   "name": "python3"
  },
  "language_info": {
   "codemirror_mode": {
    "name": "ipython",
    "version": 3
   },
   "file_extension": ".py",
   "mimetype": "text/x-python",
   "name": "python",
   "nbconvert_exporter": "python",
   "pygments_lexer": "ipython3",
   "version": "3.9.5"
  }
 },
 "nbformat": 4,
 "nbformat_minor": 5
}
